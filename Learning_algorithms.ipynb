{
 "cells": [
  {
   "cell_type": "code",
   "execution_count": null,
   "id": "b7642752",
   "metadata": {},
   "outputs": [],
   "source": [
    "# In case the nltk package is not installed, execute te following:\n",
    "\n",
    "# !pip install sklearn"
   ]
  },
  {
   "cell_type": "markdown",
   "id": "c63d5a4f",
   "metadata": {},
   "source": [
    "# A. Trees and forests (with sklearn)"
   ]
  },
  {
   "cell_type": "code",
   "execution_count": 2,
   "id": "38e36238",
   "metadata": {},
   "outputs": [],
   "source": [
    "# Important note: part of the code is from a notebook obtained in course Diego took a while ago, reference needed"
   ]
  },
  {
   "cell_type": "code",
   "execution_count": 1,
   "id": "4ff8ab2c",
   "metadata": {},
   "outputs": [],
   "source": [
    "from sklearn.tree import DecisionTreeClassifier as DTC # Decission tree classififer\n",
    "from sklearn.ensemble import RandomForestClassifier as RFC # Random forest clasifier"
   ]
  },
  {
   "cell_type": "markdown",
   "id": "ba661757",
   "metadata": {},
   "source": [
    "- DTC oficial SKlearn [documentation](https://scikit-learn.org/stable/modules/generated/sklearn.tree.DecisionTreeClassifier.html)\n",
    "- RFC oficial SKlearn [documentation](https://scikit-learn.org/stable/modules/generated/sklearn.ensemble.RandomForestClassifier.html)\n",
    "- Interesting page of SKlearn documentation on parameters tuning [here](https://scikit-learn.org/stable/modules/grid_search.html)"
   ]
  },
  {
   "cell_type": "code",
   "execution_count": null,
   "id": "f6470d39",
   "metadata": {},
   "outputs": [],
   "source": [
    "dtc=DTC(criterion='entropy') #Potentially interesting to explore other criteria and other parameter for the model\n",
    "\n",
    "dtc.fit(load_iris().data, load_iris().target) #fitting the model, arguments are are structured as: (features, targets)"
   ]
  },
  {
   "cell_type": "code",
   "execution_count": null,
   "id": "e535643b",
   "metadata": {},
   "outputs": [],
   "source": [
    "rfc=RFC()\n",
    "\n",
    "rfc.fit(load_iris().data, load_iris().target)"
   ]
  }
 ],
 "metadata": {
  "kernelspec": {
   "display_name": "Python 3 (ipykernel)",
   "language": "python",
   "name": "python3"
  },
  "language_info": {
   "codemirror_mode": {
    "name": "ipython",
    "version": 3
   },
   "file_extension": ".py",
   "mimetype": "text/x-python",
   "name": "python",
   "nbconvert_exporter": "python",
   "pygments_lexer": "ipython3",
   "version": "3.9.7"
  }
 },
 "nbformat": 4,
 "nbformat_minor": 5
}
